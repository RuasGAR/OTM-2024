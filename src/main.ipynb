{
 "cells": [
  {
   "cell_type": "markdown",
   "metadata": {},
   "source": [
    "# Trabalho Prático de Otimização - Otimização Não-Linear Irrestrita"
   ]
  },
  {
   "cell_type": "markdown",
   "metadata": {},
   "source": [
    "### Imports"
   ]
  },
  {
   "cell_type": "code",
   "execution_count": 1,
   "metadata": {},
   "outputs": [],
   "source": [
    "from typing import List\n",
    "import numpy as np"
   ]
  },
  {
   "cell_type": "markdown",
   "metadata": {},
   "source": [
    "## Funções e suas derivadas parciais"
   ]
  },
  {
   "cell_type": "markdown",
   "metadata": {
    "vscode": {
     "languageId": "plaintext"
    }
   },
   "source": [
    "### Função A"
   ]
  },
  {
   "cell_type": "code",
   "execution_count": 68,
   "metadata": {},
   "outputs": [],
   "source": [
    "def func_a(x:np.ndarray)->float|None:\n",
    "\n",
    "    if len(x) > 7:\n",
    "        return None\n",
    "\n",
    "    y = 0\n",
    "\n",
    "    for i in range(0,6):\n",
    "        y += pow(100*(x[i+1] - pow(x[i],2)),2) + pow(1-x[i],2)   \n",
    "\n",
    "    return y "
   ]
  },
  {
   "cell_type": "markdown",
   "metadata": {},
   "source": [
    "#### Teste"
   ]
  },
  {
   "cell_type": "code",
   "execution_count": 69,
   "metadata": {},
   "outputs": [
    {
     "data": {
      "text/plain": [
       "np.float64(6.0)"
      ]
     },
     "execution_count": 69,
     "metadata": {},
     "output_type": "execute_result"
    }
   ],
   "source": [
    "func_a(np.zeros(7))"
   ]
  },
  {
   "cell_type": "markdown",
   "metadata": {},
   "source": [
    "#### Derivadas Parciais"
   ]
  },
  {
   "cell_type": "code",
   "execution_count": null,
   "metadata": {},
   "outputs": [],
   "source": [
    "def gradient_func_a(x:np.ndarray) -> np.ndarray[float]|None:\n",
    "\n",
    "\n",
    "    func_a_partial_derivatives = [-400*x[0]*(-pow(x[0],2) + x[1])+2*x[0]-2]\n",
    "\n",
    "    func_a_partial_derivatives += [(-200*pow(x[i-1],2) -400*x[i]*(-pow(x[i],2) + x[i+1])+202*x[i]-2) for i in range (1,5)],\n",
    "        \n",
    "    func_a_partial_derivatives.append(-200*x[5]*(-pow(x[5],2)) + 200*x[6])\n",
    "\n",
    "    return func_a_partial_derivatives"
   ]
  },
  {
   "cell_type": "markdown",
   "metadata": {},
   "source": [
    "#### Teste"
   ]
  },
  {
   "cell_type": "code",
   "execution_count": 85,
   "metadata": {},
   "outputs": [
    {
     "data": {
      "text/plain": [
       "[np.float64(0.0),\n",
       " <generator object gradient_func_a.<locals>.<genexpr> at 0x7fdfd1be5bd0>,\n",
       " np.float64(400.0)]"
      ]
     },
     "execution_count": 85,
     "metadata": {},
     "output_type": "execute_result"
    }
   ],
   "source": [
    "gradient_func_a(np.ones(7))"
   ]
  },
  {
   "cell_type": "markdown",
   "metadata": {},
   "source": [
    "## Cálculo do Passo"
   ]
  },
  {
   "cell_type": "markdown",
   "metadata": {},
   "source": [
    "### Armijo"
   ]
  },
  {
   "cell_type": "code",
   "execution_count": 20,
   "metadata": {},
   "outputs": [],
   "source": [
    "enum_functions = {'a':[func_a, gradient_func_a], 'b':[], 'c':[]}"
   ]
  },
  {
   "cell_type": "code",
   "execution_count": 22,
   "metadata": {},
   "outputs": [],
   "source": [
    "def armijo_rule(function_id:int, x:np.ndarray, mi:float, gama:float=0.8):\n",
    "\n",
    "    # cuidar do caso em que eventualmente o gradiente é 0\n",
    "     \n",
    "    t = 1\n",
    "    f_x = enum_functions[function_id][0](x)\n",
    "    d = enum_functions[function_id][1](x)\n",
    "\n",
    "    while func_a(x + t*d) > func_a(x) + mi*d: \n",
    "\n",
    "        t = gama*t\n",
    "\n",
    "    return func_a(x+t*d)"
   ]
  },
  {
   "cell_type": "markdown",
   "metadata": {},
   "source": [
    "#### Teste"
   ]
  },
  {
   "cell_type": "markdown",
   "metadata": {},
   "source": [
    "## Método do Gradiente"
   ]
  },
  {
   "cell_type": "code",
   "execution_count": null,
   "metadata": {},
   "outputs": [],
   "source": [
    "def gradient_method(function_id:int,x:np.array):\n",
    "    \n",
    "    k = 0\n",
    "\n",
    "    while enum_functions[function_id][1](x) != 0:\n",
    "        \n",
    "        dk = -enum_functions[function_id][1](x)\n",
    "        \n",
    "        tk = armijo_rule(function_id, x, mi=2)\n",
    "        x = x + tk*dk\n",
    "        k = k+1\n",
    "\n",
    "    return x"
   ]
  },
  {
   "cell_type": "markdown",
   "metadata": {},
   "source": [
    "## Método de Newton"
   ]
  },
  {
   "cell_type": "markdown",
   "metadata": {},
   "source": [
    "## Método de Quase-Newton"
   ]
  },
  {
   "cell_type": "markdown",
   "metadata": {},
   "source": []
  }
 ],
 "metadata": {
  "kernelspec": {
   "display_name": "otm_2024",
   "language": "python",
   "name": "python3"
  },
  "language_info": {
   "codemirror_mode": {
    "name": "ipython",
    "version": 3
   },
   "file_extension": ".py",
   "mimetype": "text/x-python",
   "name": "python",
   "nbconvert_exporter": "python",
   "pygments_lexer": "ipython3",
   "version": "3.10.12"
  }
 },
 "nbformat": 4,
 "nbformat_minor": 2
}
