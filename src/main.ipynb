{
 "cells": [
  {
   "cell_type": "markdown",
   "metadata": {},
   "source": [
    "# Trabalho Prático de Otimização - Otimização Não-Linear Irrestrita"
   ]
  },
  {
   "cell_type": "markdown",
   "metadata": {},
   "source": [
    "### Imports"
   ]
  },
  {
   "cell_type": "code",
   "execution_count": null,
   "metadata": {},
   "outputs": [],
   "source": [
    "from typing import List"
   ]
  },
  {
   "cell_type": "markdown",
   "metadata": {},
   "source": [
    "## Funções e suas derivadas"
   ]
  },
  {
   "cell_type": "markdown",
   "metadata": {
    "vscode": {
     "languageId": "plaintext"
    }
   },
   "source": [
    "### Função A"
   ]
  },
  {
   "cell_type": "code",
   "execution_count": null,
   "metadata": {},
   "outputs": [],
   "source": [
    "def func_a(x:List[7])->float|None:\n",
    "\n",
    "    if len(x) > 7:\n",
    "        return None\n",
    "\n",
    "    y = 0\n",
    "\n",
    "    for i in range(1,7):\n",
    "        y += pow(100*(x[i+1] - pow(x[i],2)),2) + pow(1-x[i],2)   \n",
    "\n",
    "    return y "
   ]
  },
  {
   "cell_type": "markdown",
   "metadata": {},
   "source": [
    "#### Derivadas"
   ]
  },
  {
   "cell_type": "code",
   "execution_count": null,
   "metadata": {},
   "outputs": [],
   "source": [
    "def gradient_func_a(x:List[7]) -> List[float]|None:\n",
    "\n",
    "    func_a_partial_derivatives = [\n",
    "        # first term\n",
    "        -400*x[0]*(-pow(x[0],2) + x[1])+2*x[0]-2,\n",
    "\n",
    "        # second through six\n",
    "        [ (-200*pow(x[i-1],2) -400*x[i]*(-pow(x[i],2) + x[i+1])+202*x[i]-2) for i in range (1,6)],\n",
    "        \n",
    "        # last one\n",
    "        -200*x[5]*(-pow(x[5],2)) + 200*x[6]\n",
    "    ]\n",
    "\n",
    "    gradient_func_a = [func_a_partial_derivatives[x_i] for x_i in range(len(x))]\n",
    "\n",
    "    return gradient_func_a"
   ]
  },
  {
   "cell_type": "markdown",
   "metadata": {},
   "source": [
    "## Cálculo do Passo"
   ]
  },
  {
   "cell_type": "markdown",
   "metadata": {},
   "source": [
    "### Busca Exata"
   ]
  },
  {
   "cell_type": "markdown",
   "metadata": {},
   "source": [
    "### Armijo"
   ]
  },
  {
   "cell_type": "markdown",
   "metadata": {},
   "source": [
    "## Método do Gradiente"
   ]
  },
  {
   "cell_type": "markdown",
   "metadata": {},
   "source": [
    "## Método de Newton"
   ]
  },
  {
   "cell_type": "markdown",
   "metadata": {},
   "source": [
    "## Método de Quase-Newton"
   ]
  },
  {
   "cell_type": "markdown",
   "metadata": {},
   "source": []
  }
 ],
 "metadata": {
  "language_info": {
   "name": "python"
  }
 },
 "nbformat": 4,
 "nbformat_minor": 2
}
